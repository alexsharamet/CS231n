{
 "cells": [
  {
   "cell_type": "code",
   "execution_count": 148,
   "metadata": {
    "collapsed": true
   },
   "outputs": [],
   "source": [
    "import matplotlib.pyplot as plt\n",
    "from sklearn.model_selection import train_test_split\n",
    "import numpy as np\n",
    "import math"
   ]
  },
  {
   "cell_type": "code",
   "execution_count": 149,
   "metadata": {
    "collapsed": true
   },
   "outputs": [],
   "source": [
    "#Read Files\n",
    "def unpickle(file):\n",
    "    import pickle\n",
    "    with open(file, 'rb') as fo:\n",
    "        dict = pickle.load(fo, encoding='bytes')\n",
    "    return dict"
   ]
  },
  {
   "cell_type": "code",
   "execution_count": 150,
   "metadata": {
    "collapsed": false
   },
   "outputs": [],
   "source": [
    "#Metrics\n",
    "def L1(I1,I2):\n",
    "    sum=0\n",
    "    for i in range(len(I1)):\n",
    "        sum+=abs(int(I1[i])-int(I2[i]))\n",
    "    return sum\n",
    "def L2(I1,I2):\n",
    "    sum=0\n",
    "    for i in range(len(I1)):\n",
    "        sum+=(int(I1[i]) - int(I2[i])) ** 2\n",
    "    sum=math.sqrt(sum)\n",
    "    return sum\n",
    "\n",
    "def dist(I1,I2,metric):\n",
    "    ans=metric(I1,I2)\n",
    "    return ans"
   ]
  },
  {
   "cell_type": "code",
   "execution_count": 151,
   "metadata": {
    "collapsed": false
   },
   "outputs": [],
   "source": [
    "#KNN train, test and additional Bubble functions\n",
    "def train(web,pic,label):\n",
    "    web.append( (pic,label) )\n",
    "    \n",
    "def bubblePosition(arr,n,nw):\n",
    "    for i in range(n):\n",
    "        if nw < arr[i]:\n",
    "            return i\n",
    "    return n\n",
    "\n",
    "def bubblePush(arr,n,pos,el):\n",
    "    arr=np.insert(arr,pos,el)\n",
    "    arr=arr[:-1]\n",
    "    return arr\n",
    "\n",
    "def test(web,pic,metr,k):\n",
    "    near = np.ones(k)\n",
    "    near*=99999999\n",
    "    ans = np.ones(k)\n",
    "    ans*=-1\n",
    "    \n",
    "    for el,label in web:\n",
    "        r=dist(el,pic,metr)\n",
    "        pos=bubblePosition(near,k,r)\n",
    "        near=bubblePush(near,k,pos,r)\n",
    "        ans=bubblePush(ans,k,pos,label)    \n",
    "    \n",
    "    category = np.zeros(10)\n",
    "    for i in ans:\n",
    "        category[int(i)]+=1\n",
    "    maxAns=-1\n",
    "    maximum=-1\n",
    "    for i in range(10):\n",
    "        if(category[i] > maximum):\n",
    "            maximum=category[i]\n",
    "            maxAns=i\n",
    "    \n",
    "    return maxAns"
   ]
  },
  {
   "cell_type": "code",
   "execution_count": 152,
   "metadata": {
    "collapsed": false
   },
   "outputs": [],
   "source": [
    "#Read Data From file\n",
    "dataSet = unpickle(\"data_batch_1\")\n",
    "labels=dataSet[b'labels']\n",
    "data=dataSet[b'data']\n",
    "filenames=dataSet[b'filenames']\n",
    "labels=labels[:100]\n",
    "data=data[:100]\n",
    "filenames=filenames[:100]"
   ]
  },
  {
   "cell_type": "code",
   "execution_count": 153,
   "metadata": {
    "collapsed": true
   },
   "outputs": [],
   "source": [
    "#Split Data to train/test\n",
    "X_all, X_test, y_all, y_test = train_test_split(data,labels,test_size=0.2,random_state=0)"
   ]
  },
  {
   "cell_type": "code",
   "execution_count": 154,
   "metadata": {
    "collapsed": false
   },
   "outputs": [],
   "source": [
    "X_train, X_validate, y_train, y_validate = train_test_split(X_all,y_all,test_size=0.2,random_state=0)"
   ]
  },
  {
   "cell_type": "code",
   "execution_count": 155,
   "metadata": {
    "collapsed": false
   },
   "outputs": [],
   "source": [
    "web = []\n",
    "for i in range(len(X_train)):\n",
    "    train(web,X_train[i],y_train[i])"
   ]
  },
  {
   "cell_type": "code",
   "execution_count": 156,
   "metadata": {
    "collapsed": false
   },
   "outputs": [
    {
     "name": "stdout",
     "output_type": "stream",
     "text": [
      "L1 2 0.0625\n",
      "L1 3 0.125\n",
      "L1 4 0.1875\n",
      "L1 5 0.25\n",
      "L1 6 0.375\n"
     ]
    }
   ],
   "source": [
    "good=0\n",
    "for k in range(2,7):\n",
    "    for i in range(len(X_validate)):\n",
    "        ans=test(web,X_validate[i],L1,k)\n",
    "        if(ans == y_validate[i]):\n",
    "            good+=1\n",
    "    print(\"L1\",k,good/len(X_validate))"
   ]
  },
  {
   "cell_type": "code",
   "execution_count": 157,
   "metadata": {
    "collapsed": false
   },
   "outputs": [
    {
     "name": "stdout",
     "output_type": "stream",
     "text": [
      "L2 2 0.125\n",
      "L2 3 0.1875\n",
      "L2 4 0.25\n",
      "L2 5 0.3125\n",
      "L2 6 0.375\n"
     ]
    }
   ],
   "source": [
    "good=0\n",
    "for k in range(2,7):\n",
    "    for i in range(len(X_validate)):\n",
    "        ans=test(web,X_validate[i],L2,k)\n",
    "        if(ans == y_validate[i]):\n",
    "            good+=1\n",
    "    print(\"L2\",k,good/len(X_validate))"
   ]
  },
  {
   "cell_type": "code",
   "execution_count": 159,
   "metadata": {
    "collapsed": false
   },
   "outputs": [
    {
     "name": "stdout",
     "output_type": "stream",
     "text": [
      "0.4\n"
     ]
    }
   ],
   "source": [
    "k=6\n",
    "good=0\n",
    "for i in range(len(X_test)):\n",
    "    ans=test(web,X_test[i],L2,k)\n",
    "    if(ans == y_test[i]):\n",
    "        good+=1\n",
    "print(good/len(X_test))"
   ]
  },
  {
   "cell_type": "code",
   "execution_count": 630,
   "metadata": {
    "collapsed": false
   },
   "outputs": [
    {
     "data": {
      "image/png": "[encoded data removed]",
      "text/plain": [
       "<matplotlib.figure.Figure at 0x11140aa58>"
      ]
     },
     "metadata": {},
     "output_type": "display_data"
    },
    {
     "name": "stdout",
     "output_type": "stream",
     "text": [
      "b'puppy_s_001691.png'\n",
      "7\n"
     ]
    }
   ],
   "source": [
    "#Draw pictures from dataset\n",
    "i=9999\n",
    "#for name in filenames:\n",
    "img=data[i].astype(\"float\")\n",
    "img=img.reshape(3,32,32).transpose(1,2,0)\n",
    "plt.imshow(img)\n",
    "plt.show()\n",
    "print(name)\n",
    "print(labels[i])\n",
    "#    i=i+1 "
   ]
  }
 ],
 "metadata": {
  "kernelspec": {
   "display_name": "Python 3",
   "language": "python",
   "name": "python3"
  },
  "language_info": {
   "codemirror_mode": {
    "name": "ipython",
    "version": 3
   },
   "file_extension": ".py",
   "mimetype": "text/x-python",
   "name": "python",
   "nbconvert_exporter": "python",
   "pygments_lexer": "ipython3",
   "version": "3.6.0"
  }
 },
 "nbformat": 4,
 "nbformat_minor": 2
}
